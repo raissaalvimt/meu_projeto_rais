from pathlib import Path
import nbformat as nbf

notebook = nbf.v4.new_notebook()

notebook.cells = [
    nbf.v4.new_markdown_cell("# Análise Descritiva do Emprego e Salário no Brasil (1991–2015)\n\n"
                              "**Autor(a): Raissa Alvim Teixeira**  \n"
                              "**Linguagem principal:** Python (com elementos em R quando indicado)  \n"
                              "**Dados:** RAIS 1991–2015 (Amostra) + Censo"),
    
    nbf.v4.new_code_cell("# 1. Setup e bibliotecas\n"
                         "# Instalar se necessário:\n"
                         "# !pip install pandas matplotlib seaborn plotly\n\n"
                         "import pandas as pd\n"
                         "import matplotlib.pyplot as plt\n"
                         "import seaborn as sns\n"
                         "import plotly.express as px\n"
                         "import plotly.graph_objects as go\n"
                         "from IPython.display import Image, display, Markdown\n\n"
                         "sns.set(style=\"whitegrid\")"),
    
    nbf.v4.new_code_cell("# 2. Leitura dos dados\n"
                         "# Carregamento e padronização de nomes das colunas\n"
                         "rais = pd.read_csv('../data/rais_1991_2015_amostra.csv')\n"
                         "rais.columns = rais.columns.str.lower().str.replace(\" \", \"_\")\n"
                         "rais.head()"),
    
    nbf.v4.new_code_cell("# 3. Distribuição de Registros por Ano\n"
                         "fig1 = px.histogram(rais, x='ano', title='Distribuição de Registros por Ano')\n"
                         "fig1.update_layout(xaxis_title='Ano', yaxis_title='Número de Registros')\n"
                         "fig1.show()"),
    
    nbf.v4.new_code_cell("# 4. Salário Médio por Gênero\n"
                         "salario_genero = rais.groupby('sexo')['faixa_remuneracao_media_sm'].mean().reset_index()\n"
                         "fig2 = px.bar(salario_genero, x='sexo', y='faixa_remuneracao_media_sm',\n"
                         "              title='Salário Médio por Gênero', color='sexo')\n"
                         "fig2.update_layout(xaxis_title='Gênero', yaxis_title='Salário Médio (SM)')\n"
                         "fig2.show()"),
    
    nbf.v4.new_code_cell("# 5. Evolução do Emprego - Top 5 Estados (imagem estática)\n"
                         "display(Image(url=\"https://raw.githubusercontent.com/raissaalvimt/meu_projeto_rais/main/src/EVOLUCAO%20EMPREGO%20NOS%205%20MAIORES%20ESTADOS%202015.png\"))"),
    
    nbf.v4.new_code_cell("# 6. Evolução por Tipo de Vínculo (imagem estática)\n"
                         "display(Image(url=\"https://raw.githubusercontent.com/raissaalvimt/meu_projeto_rais/main/src/EVOLUCAO%20POR%20TIPO%20DE%20VINCULO.png\"))"),
    
    nbf.v4.new_code_cell("# 🗓️ 7. Distribuição por Ano - Imagem alternativa\n"
                         "display(Image(url=\"https://raw.githubusercontent.com/raissaalvimt/meu_projeto_rais/main/src/DISTR.%20REGISTROS%20POR%20ANO.png\"))"),
    
    nbf.v4.new_code_cell("# 8. Conclusões\n"
                         "Markdown(\"\"\"\n"
                         "### Conclusões Finais\n"
                         "- A base da RAIS entre 1991 e 2015 mostra um crescimento consistente no número de registros, refletindo a formalização do mercado de trabalho.\n"
                         "- Os estados com maiores volumes de empregos formais concentram-se nas regiões Sudeste e Sul.\n"
                         "- A diferença salarial entre gêneros é persistente: homens seguem recebendo mais, em média.\n"
                         "- Observa-se um aumento na proporção de vínculos formais ao longo do tempo.\n"
                         "- As visualizações e comparações possibilitam compreender a dinâmica do mercado de trabalho brasileiro ao longo de mais de duas décadas.\n"
                         "\"\"\")")
]

notebook_path = Path("/mnt/data/relatorio_rais_censo.ipynb")
with open(notebook_path, "w", encoding="utf-8") as f:
    nbf.write(notebook, f)

notebook_path

