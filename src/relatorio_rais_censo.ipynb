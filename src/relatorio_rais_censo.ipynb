# 📊 Análise Descritiva do Emprego e Salário no Brasil (1991–2015)

# Autor(a): Raissa Alvim Teixeira
# Linguagem principal: Python (com elementos em R quando indicado)
# Dados: RAIS 1991–2015 (Amostra) + Censo

# ---
# 1. Setup e Bibliotecas
import pandas as pd
import matplotlib.pyplot as plt
import seaborn as sns
import plotly.express as px
import plotly.graph_objects as go
from IPython.display import Image, display, Markdown

sns.set(style="whitegrid")

# ---
# 2. Leitura dos Dados
rais = pd.read_csv('../data/rais_1991_2015_amostra.csv')
rais.columns = rais.columns.str.lower().str.replace(" ", "_")
rais.head()

# ---
# 3. Distribuição de Registros por Ano
fig1 = px.histogram(rais, x='ano', title='Distribuição de Registros por Ano')
fig1.update_layout(xaxis_title='Ano', yaxis_title='Número de Registros')
fig1.show()

# ---
# 4. Salário Médio por Gênero
salario_genero = rais.groupby('sexo')['faixa_remuneracao_media_sm'].mean().reset_index()
fig2 = px.bar(salario_genero, x='sexo', y='faixa_remuneracao_media_sm',
              title='Salário Médio por Gênero', color='sexo')
fig2.update_layout(xaxis_title='Gênero', yaxis_title='Salário Médio (SM)')
fig2.show()

# ---
# 5. Evolução do Emprego - Top 5 Estados
# (simulação usando os dados agregados já tratados)
display(Image(filename='../outputs/EVOLUCAO EMPREGO NOS 5 MAIORES ESTADOS 2015.png'))

# ---
# 6. Evolução por Tipo de Vínculo
display(Image(filename='../outputs/EVOLUCAO POR TIPO DE VINCULO.png'))

# ---
# 7. Gráfico da Distribuição por Ano (Imagem)
display(Image(filename='../outputs/DISTR. REGISTROS POR ANO.png'))

# ---
# 8. Conclusões
Markdown("""
### 📌 Conclusões Finais
- A base da RAIS entre 1991 e 2015 mostra um crescimento consistente no número de registros, refletindo a formalização do mercado de trabalho.
- Os estados com maiores volumes de empregos formais concentram-se nas regiões Sudeste e Sul.
- A diferença salarial entre gêneros é persistente: homens seguem recebendo mais, em média.
- Observa-se um aumento na proporção de vínculos formais ao longo do tempo.
- As visualizações e comparações possibilitam compreender a dinâmica do mercado de trabalho brasileiro ao longo de mais de duas décadas.
""")
