{
 "cells": [
  {
   "cell_type": "markdown",
   "id": "a64ec2cc",
   "metadata": {},
   "source": [
    "# 📊 Análise Descritiva do Emprego e Salário no Brasil (1991–2015)\n",
    "\n",
    "**Autor(a): Raissa Alvim Teixeira**  \n",
    "**Linguagem principal:** Python (com elementos em R quando indicado)  \n",
    "**Dados:** RAIS 1991–2015 (Amostra) + Censo"
   ]
  },
  {
   "cell_type": "code",
   "execution_count": null,
   "id": "806e12d0",
   "metadata": {},
   "outputs": [],
   "source": [
    "# Instalar se necessário:\n",
    "# !pip install pandas matplotlib seaborn plotly\n",
    "\n",
    "import pandas as pd\n",
    "import matplotlib.pyplot as plt\n",
    "import seaborn as sns\n",
    "import plotly.express as px\n",
    "import plotly.graph_objects as go\n",
    "from IPython.display import Image, display, Markdown\n",
    "\n",
    "sns.set(style=\"whitegrid\")"
   ]
  },
  {
   "cell_type": "code",
   "execution_count": null,
   "id": "62428579",
   "metadata": {},
   "outputs": [],
   "source": [
    "rais = pd.read_csv('../data/rais_1991_2015_amostra.csv')\n",
    "rais.columns = rais.columns.str.lower().str.replace(\" \", \"_\")\n",
    "rais.head()"
   ]
  },
  {
   "cell_type": "code",
   "execution_count": null,
   "id": "c03f88db",
   "metadata": {},
   "outputs": [],
   "source": [
    "fig1 = px.histogram(rais, x='ano', title='Distribuição de Registros por Ano')\n",
    "fig1.update_layout(xaxis_title='Ano', yaxis_title='Número de Registros')\n",
    "fig1.show()"
   ]
  },
  {
   "cell_type": "code",
   "execution_count": null,
   "id": "dbf32b78",
   "metadata": {},
   "outputs": [],
   "source": [
    "salario_genero = rais.groupby('sexo')['faixa_remuneracao_media_sm'].mean().reset_index()\n",
    "fig2 = px.bar(salario_genero, x='sexo', y='faixa_remuneracao_media_sm',\n",
    "              title='Salário Médio por Gênero', color='sexo')\n",
    "fig2.update_layout(xaxis_title='Gênero', yaxis_title='Salário Médio (SM)')\n",
    "fig2.show()"
   ]
  },
  {
   "cell_type": "code",
   "execution_count": null,
   "id": "93c55776",
   "metadata": {},
   "outputs": [],
   "source": [
    "display(Image(filename='../outputs/EVOLUCAO EMPREGO NOS 5 MAIORES ESTADOS 2015.png'))"
   ]
  },
  {
   "cell_type": "code",
   "execution_count": null,
   "id": "1ee2b2cb",
   "metadata": {},
   "outputs": [],
   "source": [
    "display(Image(filename='../outputs/EVOLUCAO POR TIPO DE VINCULO.png'))"
   ]
  },
  {
   "cell_type": "code",
   "execution_count": null,
   "id": "bd2efb81",
   "metadata": {},
   "outputs": [],
   "source": [
    "display(Image(filename='../outputs/DISTR. REGISTROS POR ANO.png'))"
   ]
  },
  {
   "cell_type": "code",
   "execution_count": null,
   "id": "47f3d11f",
   "metadata": {},
   "outputs": [],
   "source": [
    "Markdown(\"\"\"\n",
    "### 📌 Conclusões Finais\n",
    "- A base da RAIS entre 1991 e 2015 mostra um crescimento consistente no número de registros, refletindo a formalização do mercado de trabalho.\n",
    "- Os estados com maiores volumes de empregos formais concentram-se nas regiões Sudeste e Sul.\n",
    "- A diferença salarial entre gêneros é persistente: homens seguem recebendo mais, em média.\n",
    "- Observa-se um aumento na proporção de vínculos formais ao longo do tempo.\n",
    "- As visualizações e comparações possibilitam compreender a dinâmica do mercado de trabalho brasileiro ao longo de mais de duas décadas.\n",
    "\"\"\")"
   ]
  }
 ],
 "metadata": {},
 "nbformat": 4,
 "nbformat_minor": 5
}
